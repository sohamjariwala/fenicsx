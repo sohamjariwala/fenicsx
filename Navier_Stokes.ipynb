{
 "cells": [
  {
   "cell_type": "markdown",
   "id": "ff25cdb3-0dac-4511-82bb-947357c20f5e",
   "metadata": {
    "tags": []
   },
   "source": [
    "# Implementation of Navier-Stokes equation using fenicsx/dolfinx\n",
    "## Steps to Navier-Stokes using Chorin's projection method\n",
    "Momentum: $\\rho \\frac{D u}{Dt} = -\\nabla p + \\mu \\nabla^2 u + \\rho \\mathbf{g}$\n",
    "\n",
    "Continuity: $\\nabla \\cdot u = 0$\n",
    "1. Taylor-Hood elements are used to avoid the saddle point problem. Pressure finite element space is one order lower than the velocity finite element space.\n",
    "\n",
    "2. Solve the weak form of the momentum equation without the pressure gradient term. Convection is treated explicitly and diffusion is treated implictly. Tentative velocity step (solve without pressure gradient term).\n",
    "$$0 = \\frac{1}{\\Delta t} \\langle u^* - u, v \\rangle +  \\langle (\\nabla u)u, v \\rangle + \\nu \\langle \\nabla u^* - \\nabla v \\rangle$$\n",
    "\n",
    "3. Pressure Poisson solution to generate correct pressure\n",
    "$$\\langle \\nabla p^*, \\nabla q\\rangle = -\\frac{1}{\\Delta t}\\langle \\nabla \\cdot u^*,q \\rangle$$\n",
    "\n",
    "4. Final velocity update using the Chorin projection\n",
    "$$ \\langle u^{**},v \\rangle  = \\langle u^*, v \\rangle - \\frac{1}{\\Delta t}\\langle \\nabla p^*, v \\rangle$$\n",
    "\n",
    "\n",
    "## Lid driven cavity\n",
    "Lid driven cavity is a standard Drichilet problem solved on a square grid. The upper lid moves in the x direction with a fixed velocity and the generated solution has a swirling nature. The location of the center of the swirl is a function of the Reynolds number.\n",
    "\n",
    "### Initial condition\n",
    "Velocity components are zero everywhere. Homogeneous Dirichlet BC everywhere except the top. No applied volume forces.\n",
    "\n",
    "### Glossary of variables\n",
    "* $u$   (`u_prev`): Velocity field from previous iteration\n",
    "* $u^*$  (`u_tent`): Velocity field after tentative momentum step\n",
    "* $u^{**}$ (`u_next`): Velocity field corrected for incompressibility constraint\n",
    "* $p^*$  (`p_next`): Pressure field at the next step\n",
    "* $\\Delta t$ (`dt`): Time step size\n",
    "* v (`v`): Test function for u\n",
    "* q (`q`): Test function for p"
   ]
  },
  {
   "cell_type": "code",
   "execution_count": 1,
   "id": "66803d60-6b59-4859-b19d-ad407972d293",
   "metadata": {},
   "outputs": [],
   "source": [
    "# Importing the standard libraries\n",
    "from mpi4py import MPI\n",
    "from petsc4py import PETSc\n",
    "import numpy as np\n",
    "import matplotlib.pyplot as plt\n",
    "from tqdm import tqdm\n",
    "import dolfinx as fe\n",
    "import ufl\n",
    "import pyvista\n",
    "import scipy as sci"
   ]
  },
  {
   "cell_type": "code",
   "execution_count": 2,
   "id": "769ec0e2-7854-4653-8852-5f6d347546ab",
   "metadata": {},
   "outputs": [],
   "source": [
    "N_POINTS_P_AXIS = 41\n",
    "\n",
    "TIME_STEP_LENGTH = 0.01\n",
    "N_TIME_STEPS = 1000\n",
    "KINEMATIC_VISCOSITY = 0.0005 # -> Re = 100"
   ]
  },
  {
   "cell_type": "code",
   "execution_count": 3,
   "id": "3720d2bd-4f7e-4578-81da-1ad5767615dd",
   "metadata": {},
   "outputs": [],
   "source": [
    "mesh = fe.mesh.create_unit_square(MPI.COMM_WORLD,N_POINTS_P_AXIS, N_POINTS_P_AXIS)\n",
    "\n",
    "# Taylor-Hood Elements. The order of the function space for the pressure has\n",
    "# to be one order lower than for the velocity. Elements are defined \n",
    "velocity_element = ufl.VectorElement('CG',mesh.ufl_cell(), 2) # CG stands for Continuous-Galerkin\n",
    "pressure_element = ufl.FiniteElement('CG',mesh.ufl_cell(), 1)\n",
    "\n",
    "velocity_function_space = fe.fem.FunctionSpace(mesh, velocity_element)\n",
    "pressure_function_space = fe.fem.FunctionSpace(mesh, pressure_element)\n",
    "\n",
    "u_trial = ufl.TrialFunction(velocity_function_space)\n",
    "p_trial = ufl.TrialFunction(pressure_function_space)\n",
    "v_test = ufl.TestFunction(velocity_function_space)\n",
    "q_test = ufl.TestFunction(pressure_function_space)"
   ]
  },
  {
   "cell_type": "code",
   "execution_count": 4,
   "id": "a9b5160f-8671-42c9-9ed3-494e311cd58c",
   "metadata": {},
   "outputs": [],
   "source": [
    "# Define the Boundary Condition\n",
    "def stationary_walls(x):\n",
    "    return np.logical_or(np.isclose(x[0],0), np.isclose(x[0],1),np.isclose(x[1],0))\n",
    "\n",
    "stationary_walls_dofs = fe.fem.locate_dofs_geometrical(\n",
    "    velocity_function_space, \n",
    "    stationary_walls)\n",
    "\n",
    "u_noslip = np.array(\n",
    "    (0,) * mesh.geometry.dim,\n",
    "    dtype=PETSc.ScalarType)\n",
    "\n",
    "\n",
    "stationary_wall_boundary_condition = fe.fem.dirichletbc(\n",
    "    u_noslip,\n",
    "    stationary_walls_dofs,\n",
    "    velocity_function_space)\n",
    "\n",
    "def moving_wall(x):\n",
    "    return np.isclose(x[1],1.0)\n",
    "\n",
    "moving_walls_dofs = fe.fem.locate_dofs_geometrical(\n",
    "    velocity_function_space, \n",
    "    moving_wall)\n",
    "\n",
    "u_moving = np.array(\n",
    "    (1.0,0.0,),\n",
    "    dtype=PETSc.ScalarType)\n",
    "\n",
    "moving_wall_boundary_condition = fe.fem.dirichletbc(\n",
    "    u_moving,\n",
    "    moving_walls_dofs,\n",
    "    velocity_function_space)\n",
    "\n",
    "# Vector containing the defined BCs\n",
    "velocity_boundary_conditions = [stationary_wall_boundary_condition, moving_wall_boundary_condition]"
   ]
  },
  {
   "cell_type": "code",
   "execution_count": 5,
   "id": "c71f0556-8e99-4f19-a194-9d335fd88304",
   "metadata": {},
   "outputs": [],
   "source": [
    "# Define the solution fields involved\n",
    "u_prev = fe.fem.Function(velocity_function_space)\n",
    "u_tent = fe.fem.Function(velocity_function_space)\n",
    "u_next = fe.fem.Function(velocity_function_space)\n",
    "p_next = fe.fem.Function(pressure_function_space)"
   ]
  },
  {
   "cell_type": "code",
   "execution_count": 6,
   "id": "4b27ebfc-1bcf-4e79-bfad-1cda0b656bb6",
   "metadata": {},
   "outputs": [],
   "source": [
    "# Weak form of the momentum equation\n",
    "momentum_weak_form_residuum = (\n",
    "    1.0 / TIME_STEP_LENGTH * ufl.inner(u_trial - u_prev, v_test) * ufl.dx\n",
    "    +\n",
    "    ufl.inner(ufl.nabla_grad(u_prev) * u_prev, v_test) * ufl.dx\n",
    "    +\n",
    "    KINEMATIC_VISCOSITY * ufl.inner(ufl.nabla_grad(u_trial), ufl.nabla_grad(v_test)) * ufl.dx\n",
    ")\n",
    "momentum_weak_form_lhs = fe.fem.form(ufl.lhs(momentum_weak_form_residuum))\n",
    "momentum_weak_form_rhs = fe.fem.form(ufl.rhs(momentum_weak_form_residuum))"
   ]
  },
  {
   "cell_type": "code",
   "execution_count": 7,
   "id": "ec7674c5-2863-44bb-ba6f-a078a8d8f06a",
   "metadata": {},
   "outputs": [],
   "source": [
    "# Weak form of the pressure poisson problem\n",
    "pressure_poisson_weak_form_lhs = fe.fem.form(ufl.inner(ufl.nabla_grad(p_trial), ufl.nabla_grad(q_test)) * ufl.dx)\n",
    "pressure_poisson_weak_form_rhs = fe.fem.form(- 1.0 / TIME_STEP_LENGTH * ufl.nabla_div(u_tent) * q_test * ufl.dx)"
   ]
  },
  {
   "cell_type": "code",
   "execution_count": 8,
   "id": "d174a95b-df3b-4dbd-a36b-b150a6a131c9",
   "metadata": {},
   "outputs": [],
   "source": [
    "# Weak form of the velocity update equation\n",
    "velocity_update_weak_form_lhs = fe.fem.form(ufl.inner(u_trial, v_test) * ufl.dx)\n",
    "velocity_update_weak_form_rhs = fe.fem.form(\n",
    "    ufl.inner(u_tent, v_test) * ufl.dx\n",
    "    -\n",
    "    TIME_STEP_LENGTH * ufl.inner(ufl.nabla_grad(p_next), v_test) * ufl.dx\n",
    ")"
   ]
  },
  {
   "cell_type": "code",
   "execution_count": 9,
   "id": "b4c69210-1d09-4efa-b468-899df1058365",
   "metadata": {},
   "outputs": [],
   "source": [
    "# Pre-Compute the system matrices (because they do not greatly change)\n",
    "momentum_assembled_system_matrix = fe.fem.petsc.assemble_matrix(momentum_weak_form_lhs, bcs=velocity_boundary_conditions)\n",
    "momentum_assembled_system_matrix.assemble()\n",
    "pressure_poisson_assembled_system_matrix = fe.fem.petsc.assemble_matrix(pressure_poisson_weak_form_lhs)\n",
    "pressure_poisson_assembled_system_matrix.assemble()\n",
    "velocity_update_assembled_system_matrix = fe.fem.petsc.assemble_matrix(velocity_update_weak_form_lhs)\n",
    "velocity_update_assembled_system_matrix.assemble()"
   ]
  },
  {
   "cell_type": "code",
   "execution_count": 10,
   "id": "69bab5b4-8f96-47aa-b9c4-c32af86e2cb9",
   "metadata": {},
   "outputs": [],
   "source": [
    "# Solver for step 1\n",
    "solver1 = PETSc.KSP().create(mesh.comm)\n",
    "solver1.setOperators(momentum_assembled_system_matrix)\n",
    "solver1.setType(PETSc.KSP.Type.BCGS)\n",
    "pc1 = solver1.getPC()\n",
    "pc1.setType(PETSc.PC.Type.HYPRE)\n",
    "pc1.setHYPREType(\"boomeramg\")\n",
    "\n",
    "# Solver for step 2\n",
    "solver2 = PETSc.KSP().create(mesh.comm)\n",
    "solver2.setOperators(pressure_poisson_assembled_system_matrix)\n",
    "solver2.setType(PETSc.KSP.Type.BCGS)\n",
    "pc2 = solver2.getPC()\n",
    "pc2.setType(PETSc.PC.Type.HYPRE)\n",
    "pc2.setHYPREType(\"boomeramg\")\n",
    "\n",
    "# Solver for step 3\n",
    "solver3 = PETSc.KSP().create(mesh.comm)\n",
    "solver3.setOperators(velocity_update_assembled_system_matrix)\n",
    "solver3.setType(PETSc.KSP.Type.CG)\n",
    "pc3 = solver3.getPC()\n",
    "pc3.setType(PETSc.PC.Type.SOR)"
   ]
  },
  {
   "cell_type": "code",
   "execution_count": 11,
   "id": "f716a66e-b203-4acb-99b4-f39b36f13bee",
   "metadata": {},
   "outputs": [
    {
     "name": "stderr",
     "output_type": "stream",
     "text": [
      "100%|███████████████████████████████████████| 1000/1000 [00:10<00:00, 94.45it/s]\n"
     ]
    }
   ],
   "source": [
    "for t in tqdm(range(N_TIME_STEPS)):\n",
    "    # (1) Solve for tentative velocity\n",
    "    momentum_assembled_rhs = fe.fem.petsc.assemble_vector(momentum_weak_form_rhs)\n",
    "    momentum_assembled_rhs.ghostUpdate(addv=PETSc.InsertMode.ADD_VALUES, mode=PETSc.ScatterMode.REVERSE)\n",
    "    fe.fem.petsc.set_bc(momentum_assembled_rhs, velocity_boundary_conditions)\n",
    "    solver1.solve(momentum_assembled_rhs, u_tent.vector)\n",
    "    u_tent.x.scatter_forward()\n",
    "        \n",
    "    # (2) Solve for the pressure\n",
    "    pressure_poisson_assembled_rhs = fe.fem.petsc.assemble_vector(pressure_poisson_weak_form_rhs)\n",
    "    pressure_poisson_assembled_rhs.ghostUpdate(addv=PETSc.InsertMode.ADD_VALUES, mode=PETSc.ScatterMode.REVERSE)\n",
    "    solver2.solve(pressure_poisson_assembled_rhs, p_next.vector)\n",
    "    p_next.x.scatter_forward()\n",
    "    \n",
    "    # (3) Correct the velocities to be incompressible\n",
    "    fe.fem.petsc.set_bc(momentum_assembled_rhs, velocity_boundary_conditions)\n",
    "    velocity_update_assembled_rhs = fe.fem.petsc.assemble_vector(velocity_update_weak_form_rhs)\n",
    "    velocity_update_assembled_rhs.ghostUpdate(addv=PETSc.InsertMode.ADD_VALUES, mode=PETSc.ScatterMode.REVERSE)\n",
    "    solver3.solve(velocity_update_assembled_rhs, u_next.vector)\n",
    "    u_next.x.scatter_forward()\n",
    "\n",
    "    # Update variable with solution form this time step\n",
    "    u_prev.x.array[:] = u_next.x.array[:]\n",
    "\n",
    "    # Compute error at current time-step\n",
    "    error_max = mesh.comm.allreduce(np.max(np.abs(u_next.vector.array - u_prev.vector.array)), op=MPI.MAX)\n",
    "    \n",
    "    # Print error only every 20th step and at the last step\n",
    "    # print(f\"Time {t:.2f}, L2-error {error_max:.2e}\")"
   ]
  },
  {
   "cell_type": "code",
   "execution_count": 12,
   "id": "b7c9e9f6-5726-4c79-84c5-5fdcb1bf497b",
   "metadata": {},
   "outputs": [
    {
     "data": {
      "text/plain": [
       "array([-1.68594655e-04, -2.35808576e-03, -1.06348096e-06, ...,\n",
       "        9.29039263e-02,  8.22646518e-02,  9.85237595e-02])"
      ]
     },
     "execution_count": 12,
     "metadata": {},
     "output_type": "execute_result"
    }
   ],
   "source": [
    "u_prev.vector.array"
   ]
  },
  {
   "cell_type": "code",
   "execution_count": 16,
   "id": "e665c217-601b-4a79-8bf9-63db3284ad11",
   "metadata": {},
   "outputs": [
    {
     "data": {
      "application/vnd.jupyter.widget-view+json": {
       "model_id": "8d3eb56d9b374f2e987e1ecc121b7fa2",
       "version_major": 2,
       "version_minor": 0
      },
      "text/plain": [
       "Renderer(camera=PerspectiveCamera(aspect=1.3333333333333333, children=(DirectionalLight(intensity=0.25, positi…"
      ]
     },
     "metadata": {},
     "output_type": "display_data"
    }
   ],
   "source": [
    "pyvista.set_jupyter_backend(\"pythreejs\")\n",
    "topology, cell_types, geometry = fe.plot.create_vtk_mesh(velocity_function_space)\n",
    "values = np.zeros((geometry.shape[0], 3), dtype=np.float64)\n",
    "values[:, :len(u_next)] = u_next.x.array.real.reshape((geometry.shape[0], len(u_next)))\n",
    "\n",
    "# Create a point cloud of glyphs\n",
    "function_grid = pyvista.UnstructuredGrid(topology, cell_types, geometry)\n",
    "function_grid[\"u\"] = values\n",
    "glyphs = function_grid.glyph(orient=\"u\",scale=False,factor=0.05,)\n",
    "\n",
    "# Create a pyvista-grid for the mesh\n",
    "grid = pyvista.UnstructuredGrid(*fe.plot.create_vtk_mesh(mesh, mesh.topology.dim))\n",
    "\n",
    "# Create plotter\n",
    "plotter = pyvista.Plotter()\n",
    "plotter.add_mesh(grid, style=\"wireframe\", color=\"k\")\n",
    "plotter.add_mesh(glyphs)\n",
    "plotter.view_xy()\n",
    "if pyvista.OFF_SCREEN:\n",
    "    pyvista.start_xvfb()\n",
    "    fig_as_array = plotter.screenshot(\"glyphs.png\")\n",
    "else:\n",
    "    plotter.show()"
   ]
  },
  {
   "cell_type": "code",
   "execution_count": null,
   "id": "5b26de54-4ac7-4c1a-b596-893d83705810",
   "metadata": {},
   "outputs": [],
   "source": []
  }
 ],
 "metadata": {
  "kernelspec": {
   "display_name": "Python [conda env:fenicsx-env]",
   "language": "python",
   "name": "conda-env-fenicsx-env-py"
  },
  "language_info": {
   "codemirror_mode": {
    "name": "ipython",
    "version": 3
   },
   "file_extension": ".py",
   "mimetype": "text/x-python",
   "name": "python",
   "nbconvert_exporter": "python",
   "pygments_lexer": "ipython3",
   "version": "3.10.6"
  }
 },
 "nbformat": 4,
 "nbformat_minor": 5
}
