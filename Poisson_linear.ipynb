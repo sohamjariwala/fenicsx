{
 "cells": [
  {
   "cell_type": "markdown",
   "id": "5d3935fd-8470-4dae-a9bc-dd5c480357bd",
   "metadata": {},
   "source": [
    "# Poisson equation solution using FEeniCSx/DOLFINx\n",
    "## Poisson equation variational formulation\n",
    "Poisson equation is defined as follows:\n",
    "$$ -\\nabla^2 u(\\mathbf{x}) = f(\\mathbf{x}), \\ \\mathbf{x} \\in \\Omega\\\\\n",
    "u(\\mathbf{x}) = u_D (\\mathbf{x}), \\ \\mathbf{x} \\in \\partial \\Omega,$$\n",
    "\n",
    "and is the generalized form of the Laplace equation with a non-homogenous right hand side. The variational form of the Poisson equation can be generated simply by multiplying both sides with a \\emph{test} function, $v(\\mathbf{x})$, such that:\n",
    "$$ -\\int_\\Omega \\nabla^2 u \\ v~\\mathrm{d}x = - \\int_\\Omega f \\ v~\\mathrm{d}x.$$\n",
    "Applying integration by part on this expressions yields,\n",
    "$$ -\\int_\\Omega (\\nabla^2 u)v~\\mathrm{d}x = \n",
    "\\int_\\Omega\\nabla u\\cdot\\nabla v~\\mathrm{d}x - \n",
    "\\int_{\\partial\\Omega}\\frac{\\partial u}{\\partial n}v~\\mathrm{d}s,$$\n",
    "and $v(\\mathbf{x})$ is chosen such that it vanishes where $u(\\mathbf{x})$ is known. Therefore, it becomes quite simply,\n",
    "$$ -\\int_\\Omega (\\nabla^2 u)v~\\mathrm{d}x = \n",
    "\\int_\\Omega\\nabla u\\cdot\\nabla v~\\mathrm{d}x.$$\n",
    "Plugging this simplification back into the original expression gives,\n",
    "$$\\int_\\Omega \\nabla u \\cdot \\nabla v \\mathrm{d} x = \\int_\\Omega f\\ v~\\mathrm{d} x.$$\n",
    "The above can be cast in the canonical form of variational problem as\n",
    "$$ a(u,v) = L(v), ~\\forall v \\in V,$$\n",
    "where $a(u,v)$ is known as the bilinear form and $L(v)$ is known as the linear problem\n",
    "\n",
    "## Implementation details\n",
    "* `MPI.COMM_SELF`: Each processor node gets one instance of mesh. Useful for running simulations with different parameters. \n",
    "* `MPI.COMM_WORLD`: Single mesh distributed across different nodes\n",
    "* `dolfinx.fem`: This module contains functions spaces, functions, and solvers for FEM. This can translate variational problems into linear/non-linear systems that can be solved by `PETSc`.\n",
    "* `dolfinx.mesh`: Generates meshs/solution domains.\n",
    "* `ufl`: Unified Form Language that can be used define the variational problems."
   ]
  },
  {
   "cell_type": "code",
   "execution_count": 1,
   "id": "c611d945-3523-4285-ba81-6941a9f012a1",
   "metadata": {},
   "outputs": [],
   "source": [
    "from mpi4py import MPI\n",
    "import dolfinx as fe\n",
    "import numpy\n",
    "import ufl\n",
    "from petsc4py import PETSc"
   ]
  },
  {
   "cell_type": "code",
   "execution_count": 2,
   "id": "0ed2aff4-f4b7-49f2-a6fa-48804de36f98",
   "metadata": {},
   "outputs": [],
   "source": [
    "# Generate mesh\n",
    "solution_domain = fe.mesh.create_unit_square(MPI.COMM_WORLD, 8, 8, fe.mesh.CellType.quadrilateral)\n",
    "V_function_space = fe.fem.FunctionSpace(solution_domain, (\"CG\", 1))"
   ]
  },
  {
   "cell_type": "code",
   "execution_count": 3,
   "id": "92d9fcac-9e3d-42bb-a76b-a50cf454f4ec",
   "metadata": {},
   "outputs": [],
   "source": [
    "# Defining boundary condition\n",
    "u_boundary = fe.fem.Function(V_function_space)\n",
    "u_boundary.interpolate(lambda x: 1 + x[0]**2 + 2 * x[1]**2)"
   ]
  },
  {
   "cell_type": "code",
   "execution_count": 4,
   "id": "35aa7b51-688f-4ba1-901a-9b424f65118b",
   "metadata": {},
   "outputs": [],
   "source": [
    "# Create facet to cell connectivity required to determine boundary facets\n",
    "tdim = solution_domain.topology.dim\n",
    "fdim = tdim - 1\n",
    "solution_domain.topology.create_connectivity(fdim, tdim)\n",
    "boundary_facets = fe.mesh.exterior_facet_indices(solution_domain.topology)"
   ]
  },
  {
   "cell_type": "code",
   "execution_count": 5,
   "id": "b7ca5482-4e10-4380-8fd9-51ff962ece08",
   "metadata": {},
   "outputs": [],
   "source": [
    "# Define boundary degrees of freedom\n",
    "boundary_dofs = fe.fem.locate_dofs_topological(V_function_space, fdim, boundary_facets)\n",
    "bc = fe.fem.dirichletbc(u_boundary, boundary_dofs)"
   ]
  },
  {
   "cell_type": "code",
   "execution_count": 6,
   "id": "026b48b7-2cd7-4e09-bbd9-e73f5f2ee7c8",
   "metadata": {},
   "outputs": [],
   "source": [
    "u = ufl.TrialFunction(V_function_space)\n",
    "v = ufl.TestFunction(V_function_space)"
   ]
  },
  {
   "cell_type": "code",
   "execution_count": 7,
   "id": "c242e19a-5f24-4b93-8077-aa59cdde7863",
   "metadata": {},
   "outputs": [],
   "source": [
    "# The scalar $f$ is defined as a constant\n",
    "f_num = - 6\n",
    "f = fe.fem.Constant(solution_domain, PETSc.ScalarType(f_num))"
   ]
  },
  {
   "cell_type": "code",
   "execution_count": 8,
   "id": "ddc2bc3a-aa70-4cb3-b6ba-c8400e13e8d8",
   "metadata": {},
   "outputs": [],
   "source": [
    "# Variational problem\n",
    "a = ufl.dot(ufl.grad(u), ufl.grad(v)) * ufl.dx\n",
    "L = f * v * ufl.dx"
   ]
  },
  {
   "cell_type": "code",
   "execution_count": 22,
   "id": "93fbc07b-4814-4921-ac17-4cb01a7884ae",
   "metadata": {},
   "outputs": [],
   "source": [
    "# Solution\n",
    "problem = fe.fem.petsc.LinearProblem(a, L, bcs=[bc], petsc_options={\"ksp_type\": \"preonly\", \"pc_type\": \"lu\"})\n",
    "uh = problem.solve()"
   ]
  },
  {
   "cell_type": "code",
   "execution_count": 52,
   "id": "36c1b86e-cb99-40d2-9162-9daaa7f6d386",
   "metadata": {},
   "outputs": [
    {
     "data": {
      "text/plain": [
       "array([1.      , 1.03125 , 1.015625, 1.046875, 1.125   , 1.140625,\n",
       "       1.0625  , 1.09375 , 1.28125 , 1.296875, 1.1875  , 1.140625,\n",
       "       1.171875, 1.5     , 1.515625, 1.34375 , 1.265625, 1.25    ,\n",
       "       1.28125 , 1.78125 , 1.796875, 1.5625  , 1.421875, 1.375   ,\n",
       "       1.390625, 1.421875, 2.125   , 2.140625, 1.84375 , 1.640625,\n",
       "       1.53125 , 1.515625, 1.5625  , 1.59375 , 2.53125 , 2.546875,\n",
       "       2.1875  , 1.921875, 1.75    , 1.671875, 1.6875  , 1.765625,\n",
       "       1.796875, 3.      , 3.015625, 2.59375 , 2.265625, 2.03125 ,\n",
       "       1.890625, 1.84375 , 1.890625, 2.      , 2.03125 , 3.0625  ,\n",
       "       2.671875, 2.375   , 2.171875, 2.0625  , 2.046875, 2.125   ,\n",
       "       3.140625, 2.78125 , 2.515625, 2.34375 , 2.265625, 2.28125 ,\n",
       "       3.25    , 2.921875, 2.6875  , 2.546875, 2.5     , 3.390625,\n",
       "       3.09375 , 2.890625, 2.78125 , 3.5625  , 3.296875, 3.125   ,\n",
       "       3.765625, 3.53125 , 4.      ])"
      ]
     },
     "execution_count": 52,
     "metadata": {},
     "output_type": "execute_result"
    }
   ],
   "source": [
    "uh.vector.array"
   ]
  },
  {
   "cell_type": "code",
   "execution_count": null,
   "id": "e78ea4e9-70b1-4b84-a528-9d975df16176",
   "metadata": {},
   "outputs": [],
   "source": []
  }
 ],
 "metadata": {
  "kernelspec": {
   "display_name": "Python 3.9.15 64-bit",
   "language": "python",
   "name": "python3"
  },
  "language_info": {
   "codemirror_mode": {
    "name": "ipython",
    "version": 3
   },
   "file_extension": ".py",
   "mimetype": "text/x-python",
   "name": "python",
   "nbconvert_exporter": "python",
   "pygments_lexer": "ipython3",
   "version": "3.9.15"
  },
  "vscode": {
   "interpreter": {
    "hash": "a665b5d41d17b532ea9890333293a1b812fa0b73c9c25c950b3cedf1bebd0438"
   }
  }
 },
 "nbformat": 4,
 "nbformat_minor": 5
}
